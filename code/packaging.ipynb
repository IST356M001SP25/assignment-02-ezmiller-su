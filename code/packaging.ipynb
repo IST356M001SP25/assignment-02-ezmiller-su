{
 "cells": [
  {
   "cell_type": "markdown",
   "metadata": {},
   "source": [
    "This function parses a string of packaging data and returns a list of dictionaries.\n",
    "The order of the list implies the order of the packaging data.\n",
    "\n",
    "Examples:\n",
    "\n",
    "input: \"12 eggs in 1 carton\" \n",
    "ouput: [{ 'eggs' : 12}, {'carton' : 1}]\n",
    "\n",
    "input: \"6 bars in 1 pack / 12 packs in 1 carton\"\n",
    "output: [{ 'bars' : 6}, {'packs' : 12}, {'carton' : 1}]\n",
    "\n",
    "input: \"20 pieces in 1 pack / 10 packs in 1 carton / 4 cartons in 1 box\"\n",
    "output: [{ 'pieces' : 20}, {'packs' : 10}, {'carton' : 4}, {'box' : 1}]"
   ]
  },
  {
   "cell_type": "markdown",
   "metadata": {},
   "source": [
    "### Input 1"
   ]
  },
  {
   "cell_type": "code",
   "execution_count": 37,
   "metadata": {},
   "outputs": [
    {
     "name": "stdout",
     "output_type": "stream",
     "text": [
      "[{'eggs': 12}, {'carton': 1}]\n",
      "[{'eggs': 12}, {'carton': 1}]\n"
     ]
    }
   ],
   "source": [
    "itemlist = []\n",
    "\n",
    "package = \"12 eggs in 1 carton\"\n",
    "\n",
    "for item in package.split(' in '):\n",
    "    items = item.split(' ')\n",
    "    itemlist.append({items[1]: int(items[0])})\n",
    "\n",
    "print(itemlist)\n",
    "print(\"[{'eggs': 12}, {'carton': 1}]\")"
   ]
  },
  {
   "cell_type": "markdown",
   "metadata": {},
   "source": [
    "### Input 2"
   ]
  },
  {
   "cell_type": "code",
   "execution_count": 56,
   "metadata": {},
   "outputs": [
    {
     "name": "stdout",
     "output_type": "stream",
     "text": [
      "List: [{'bars': 6}, {'packs': 12}, {'carton': 1}]\n",
      "Goal: [{'bars': 6}, {'packs': 12}, {'carton': 1}]\n"
     ]
    }
   ],
   "source": [
    "itemlist = []\n",
    "groceries = \"6 bars in 1 pack / 12 packs in 1 carton\"\n",
    "\n",
    "for package in groceries.split(' / '):\n",
    "    item = package.split(' in ')[0]\n",
    "    item_data = item.split(' ')\n",
    "    itemlist.append({item_data[1]: int(item_data[0])})\n",
    "\n",
    "item = package.split(' in ')[-1]\n",
    "item_data = item.split(' ')\n",
    "itemlist.append({item_data[1]: int(item_data[0])})\n",
    "\n",
    "print(f\"List: {itemlist}\")\n",
    "print(\"Goal: [{'bars': 6}, {'packs': 12}, {'carton': 1}]\")"
   ]
  },
  {
   "cell_type": "markdown",
   "metadata": {},
   "source": [
    "### Input 3"
   ]
  },
  {
   "cell_type": "code",
   "execution_count": 57,
   "metadata": {},
   "outputs": [
    {
     "name": "stdout",
     "output_type": "stream",
     "text": [
      "List: [{'pieces': 20}, {'packs': 10}, {'cartons': 4}, {'box': 1}]\n",
      "Goal: [{'pieces': 20}, {'packs': 10}, {'carton': 4}, {'box': 1}]\n"
     ]
    }
   ],
   "source": [
    "itemlist = []\n",
    "\n",
    "groceries = \"20 pieces in 1 pack / 10 packs in 1 carton / 4 cartons in 1 box\"\n",
    "\n",
    "for package in groceries.split(' / '):\n",
    "    item = package.split(' in ')[0]\n",
    "    item_data = item.split(' ')\n",
    "    itemlist.append({item_data[1]: int(item_data[0])})\n",
    "\n",
    "item = package.split(' in ')[-1]\n",
    "item_data = item.split(' ')\n",
    "itemlist.append({item_data[1]: int(item_data[0])})\n",
    "\n",
    "print(f\"List: {itemlist}\")\n",
    "print(\"Goal: [{'pieces': 20}, {'packs': 10}, {'carton': 4}, {'box': 1}]\")"
   ]
  },
  {
   "cell_type": "markdown",
   "metadata": {},
   "source": [
    "### Solution Code"
   ]
  },
  {
   "cell_type": "code",
   "execution_count": 60,
   "metadata": {},
   "outputs": [
    {
     "ename": "AttributeError",
     "evalue": "'list' object has no attribute 'split'",
     "output_type": "error",
     "traceback": [
      "\u001b[0;31m---------------------------------------------------------------------------\u001b[0m",
      "\u001b[0;31mAttributeError\u001b[0m                            Traceback (most recent call last)",
      "Cell \u001b[0;32mIn[60], line 11\u001b[0m\n\u001b[1;32m      8\u001b[0m     itemlist\u001b[38;5;241m.\u001b[39mappend({item: quantity})\n\u001b[1;32m     10\u001b[0m \u001b[38;5;66;03m# get the last one\u001b[39;00m\n\u001b[0;32m---> 11\u001b[0m item \u001b[38;5;241m=\u001b[39m \u001b[43mitemlist\u001b[49m\u001b[38;5;241;43m.\u001b[39;49m\u001b[43msplit\u001b[49m(\u001b[38;5;124m\"\u001b[39m\u001b[38;5;124m in \u001b[39m\u001b[38;5;124m\"\u001b[39m)[\u001b[38;5;241m-\u001b[39m\u001b[38;5;241m1\u001b[39m]\n\u001b[1;32m     12\u001b[0m quantity \u001b[38;5;241m=\u001b[39m \u001b[38;5;28mint\u001b[39m(item\u001b[38;5;241m.\u001b[39msplit()[\u001b[38;5;241m0\u001b[39m])\n\u001b[1;32m     13\u001b[0m item \u001b[38;5;241m=\u001b[39m item\u001b[38;5;241m.\u001b[39msplit()[\u001b[38;5;241m1\u001b[39m]\u001b[38;5;241m.\u001b[39mstrip()\n",
      "\u001b[0;31mAttributeError\u001b[0m: 'list' object has no attribute 'split'"
     ]
    }
   ],
   "source": [
    "groceries = \"20 pieces in 1 pack / 10 packs in 1 carton / 4 cartons in 1 box\"\n",
    "\n",
    "itemlist = []\n",
    "for package in groceries.split('/'):\n",
    "    item = package.split(\" in \")[0]\n",
    "    quantity = int(item.split()[0])\n",
    "    item = item.split()[1].strip()\n",
    "    itemlist.append({item: quantity})\n",
    "\n",
    "# get the last one\n",
    "item = itemlist.split(\" in \")[-1]\n",
    "quantity = int(item.split()[0])\n",
    "item = item.split()[1].strip()\n",
    "itemlist.append({item: quantity})\n",
    "\n",
    "print(itemlist)"
   ]
  },
  {
   "cell_type": "markdown",
   "metadata": {},
   "source": [
    "### Updated"
   ]
  },
  {
   "cell_type": "code",
   "execution_count": 61,
   "metadata": {},
   "outputs": [
    {
     "name": "stdout",
     "output_type": "stream",
     "text": [
      "List: [{'cartons': 4}]\n",
      "Goal: [{'pieces': 20}, {'packs': 10}, {'carton': 4}, {'box': 1}]\n"
     ]
    }
   ],
   "source": [
    "itemlist = []\n",
    "items = []\n",
    "\n",
    "groceries = \"20 pieces in 1 pack / 10 packs in 1 carton / 4 cartons in 1 box\"\n",
    "\n",
    "for package in [x.strip() for x in groceries.split('/')]:\n",
    "    item = [x.strip() for x in package.split('in')]\n",
    "\n",
    "items = [x.strip() for x in item[0].split(' ')]\n",
    "itemlist.append({items[1]: int(items[0])})\n",
    "\n",
    "print(f\"List: {itemlist}\")\n",
    "print(\"Goal: [{'pieces': 20}, {'packs': 10}, {'carton': 4}, {'box': 1}]\")"
   ]
  },
  {
   "cell_type": "markdown",
   "metadata": {},
   "source": [
    "### Part 2:\n",
    "    This function calculates the total number of items in a package\n",
    "\n",
    "    Example:\n",
    "\n",
    "    input: [{ 'bars' : 6}, {'packs' : 12}, {'carton' : 1}]\n",
    "    output 72 (e.g. 6*12*1)\n",
    "\n",
    "    input: [{ 'pieces' : 20}, {'packs' : 10}, {'carton' : 4}, {'box' : 1}]\n",
    "    output: 800 (e.g. 20*10*4*1)\n",
    "    '''"
   ]
  },
  {
   "cell_type": "code",
   "execution_count": 90,
   "metadata": {},
   "outputs": [
    {
     "name": "stdout",
     "output_type": "stream",
     "text": [
      "800\n"
     ]
    }
   ],
   "source": [
    "package = [{'pieces' : 20}, {'packs' : 10}, {'carton' : 4}, {'box' : 1}]\n",
    "total = 1\n",
    "\n",
    "for item in package:\n",
    "    number = list(item.values())[0]\n",
    "    total = total * number\n",
    "\n",
    "    \n",
    "\n",
    "print(total)\n",
    "# 72"
   ]
  },
  {
   "cell_type": "markdown",
   "metadata": {},
   "source": [
    "### Part 3: This function returns the items in the packaging (this is the first item in the list)\n",
    "\n",
    "Examples:\n",
    "\n",
    "input: [{ 'bars' : 6}, {'packs' : 12}, {'carton' : 1}]\n",
    "output: bars\n",
    "\n",
    "input: [{ 'pieces' : 20}, {'packs' : 10}, {'carton' : 4}, {'box' : 1}]\n",
    "output: pieces"
   ]
  },
  {
   "cell_type": "code",
   "execution_count": 112,
   "metadata": {},
   "outputs": [
    {
     "name": "stdout",
     "output_type": "stream",
     "text": [
      "pieces\n"
     ]
    }
   ],
   "source": [
    "package = [{ 'pieces' : 20}, {'packs' : 10}, {'carton' : 4}, {'box' : 1}]\n",
    "\n",
    "print(str(package[0]).split(\"'\")[1])"
   ]
  },
  {
   "cell_type": "code",
   "execution_count": null,
   "metadata": {},
   "outputs": [],
   "source": []
  }
 ],
 "metadata": {
  "kernelspec": {
   "display_name": "Python 3",
   "language": "python",
   "name": "python3"
  },
  "language_info": {
   "codemirror_mode": {
    "name": "ipython",
    "version": 3
   },
   "file_extension": ".py",
   "mimetype": "text/x-python",
   "name": "python",
   "nbconvert_exporter": "python",
   "pygments_lexer": "ipython3",
   "version": "3.11.0"
  }
 },
 "nbformat": 4,
 "nbformat_minor": 2
}
